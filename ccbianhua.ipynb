{
 "cells": [
  {
   "cell_type": "code",
   "execution_count": 68,
   "metadata": {},
   "outputs": [],
   "source": [
    "# Configure Jupyter so figures appear in the notebook\n",
    "%matplotlib inline\n",
    "\n",
    "# Configure Jupyter to display the assigned value after an assignment\n",
    "%config InteractiveShell.ast_node_interactivity='last_expr_or_assign'\n",
    "\n",
    "# import functions from the modsim.py module\n",
    "from modsim import *\n",
    "from scipy.interpolate import make_interp_spline\n",
    "import math"
   ]
  },
  {
   "cell_type": "code",
   "execution_count": 69,
   "metadata": {},
   "outputs": [
    {
     "data": {
      "text/html": [
       "<div>\n",
       "<style scoped>\n",
       "    .dataframe tbody tr th:only-of-type {\n",
       "        vertical-align: middle;\n",
       "    }\n",
       "\n",
       "    .dataframe tbody tr th {\n",
       "        vertical-align: top;\n",
       "    }\n",
       "\n",
       "    .dataframe thead th {\n",
       "        text-align: right;\n",
       "    }\n",
       "</style>\n",
       "<table border=\"1\" class=\"dataframe\">\n",
       "  <thead>\n",
       "    <tr style=\"text-align: right;\">\n",
       "      <th></th>\n",
       "      <th>Cy</th>\n",
       "      <th>Cx</th>\n",
       "      <th>mz</th>\n",
       "      <th>Cz</th>\n",
       "      <th>my</th>\n",
       "      <th>mx</th>\n",
       "    </tr>\n",
       "  </thead>\n",
       "  <tbody>\n",
       "    <tr>\n",
       "      <th>-90 degree</th>\n",
       "      <td>-0.97717</td>\n",
       "      <td>0.28108</td>\n",
       "      <td>0.80590</td>\n",
       "      <td>0.01760</td>\n",
       "      <td>0.09188</td>\n",
       "      <td>0.02610</td>\n",
       "    </tr>\n",
       "    <tr>\n",
       "      <th>-80 degree</th>\n",
       "      <td>-1.05665</td>\n",
       "      <td>0.52915</td>\n",
       "      <td>0.94347</td>\n",
       "      <td>0.00091</td>\n",
       "      <td>0.09410</td>\n",
       "      <td>0.01246</td>\n",
       "    </tr>\n",
       "    <tr>\n",
       "      <th>-70 degree</th>\n",
       "      <td>-1.05718</td>\n",
       "      <td>0.76839</td>\n",
       "      <td>0.98139</td>\n",
       "      <td>-0.02327</td>\n",
       "      <td>0.10179</td>\n",
       "      <td>0.01522</td>\n",
       "    </tr>\n",
       "    <tr>\n",
       "      <th>-60 degree</th>\n",
       "      <td>-1.00930</td>\n",
       "      <td>0.94221</td>\n",
       "      <td>0.94513</td>\n",
       "      <td>-0.05056</td>\n",
       "      <td>0.09406</td>\n",
       "      <td>0.00620</td>\n",
       "    </tr>\n",
       "    <tr>\n",
       "      <th>-50 degree</th>\n",
       "      <td>-0.94624</td>\n",
       "      <td>1.05139</td>\n",
       "      <td>0.89359</td>\n",
       "      <td>-0.07813</td>\n",
       "      <td>0.08907</td>\n",
       "      <td>0.00444</td>\n",
       "    </tr>\n",
       "    <tr>\n",
       "      <th>-40 degree</th>\n",
       "      <td>-0.83137</td>\n",
       "      <td>1.14079</td>\n",
       "      <td>0.80845</td>\n",
       "      <td>-0.05704</td>\n",
       "      <td>0.07593</td>\n",
       "      <td>0.00539</td>\n",
       "    </tr>\n",
       "    <tr>\n",
       "      <th>-30 degree</th>\n",
       "      <td>-0.78178</td>\n",
       "      <td>1.12213</td>\n",
       "      <td>0.62912</td>\n",
       "      <td>-0.00827</td>\n",
       "      <td>0.06704</td>\n",
       "      <td>0.01858</td>\n",
       "    </tr>\n",
       "    <tr>\n",
       "      <th>-20 degree</th>\n",
       "      <td>-0.66764</td>\n",
       "      <td>1.15325</td>\n",
       "      <td>0.47608</td>\n",
       "      <td>-0.00722</td>\n",
       "      <td>0.05418</td>\n",
       "      <td>0.00950</td>\n",
       "    </tr>\n",
       "    <tr>\n",
       "      <th>-10 degree</th>\n",
       "      <td>-0.48342</td>\n",
       "      <td>1.18370</td>\n",
       "      <td>0.35270</td>\n",
       "      <td>-0.01323</td>\n",
       "      <td>0.02852</td>\n",
       "      <td>-0.00730</td>\n",
       "    </tr>\n",
       "    <tr>\n",
       "      <th>0 degree</th>\n",
       "      <td>-0.30745</td>\n",
       "      <td>1.16329</td>\n",
       "      <td>0.24538</td>\n",
       "      <td>0.00716</td>\n",
       "      <td>0.01824</td>\n",
       "      <td>-0.00563</td>\n",
       "    </tr>\n",
       "    <tr>\n",
       "      <th>10 degree</th>\n",
       "      <td>-0.16473</td>\n",
       "      <td>1.08995</td>\n",
       "      <td>0.14742</td>\n",
       "      <td>0.01746</td>\n",
       "      <td>0.00699</td>\n",
       "      <td>-0.00639</td>\n",
       "    </tr>\n",
       "    <tr>\n",
       "      <th>17 degree</th>\n",
       "      <td>-0.05976</td>\n",
       "      <td>1.05178</td>\n",
       "      <td>0.08508</td>\n",
       "      <td>0.01947</td>\n",
       "      <td>-0.01082</td>\n",
       "      <td>-0.01473</td>\n",
       "    </tr>\n",
       "    <tr>\n",
       "      <th>20 degree</th>\n",
       "      <td>-0.02238</td>\n",
       "      <td>1.02085</td>\n",
       "      <td>0.05461</td>\n",
       "      <td>0.02568</td>\n",
       "      <td>-0.02198</td>\n",
       "      <td>-0.02039</td>\n",
       "    </tr>\n",
       "    <tr>\n",
       "      <th>30 degree</th>\n",
       "      <td>0.19076</td>\n",
       "      <td>0.85054</td>\n",
       "      <td>-0.05332</td>\n",
       "      <td>0.06986</td>\n",
       "      <td>-0.01368</td>\n",
       "      <td>-0.00958</td>\n",
       "    </tr>\n",
       "    <tr>\n",
       "      <th>40 degree</th>\n",
       "      <td>0.37810</td>\n",
       "      <td>0.69503</td>\n",
       "      <td>-0.15739</td>\n",
       "      <td>0.02833</td>\n",
       "      <td>-0.01126</td>\n",
       "      <td>-0.01202</td>\n",
       "    </tr>\n",
       "    <tr>\n",
       "      <th>50 degree</th>\n",
       "      <td>0.57977</td>\n",
       "      <td>0.47548</td>\n",
       "      <td>-0.29571</td>\n",
       "      <td>0.03067</td>\n",
       "      <td>-0.01653</td>\n",
       "      <td>-0.01280</td>\n",
       "    </tr>\n",
       "    <tr>\n",
       "      <th>60 degree</th>\n",
       "      <td>0.74033</td>\n",
       "      <td>0.29416</td>\n",
       "      <td>-0.38663</td>\n",
       "      <td>0.03789</td>\n",
       "      <td>-0.01889</td>\n",
       "      <td>-0.01195</td>\n",
       "    </tr>\n",
       "    <tr>\n",
       "      <th>70 degree</th>\n",
       "      <td>0.84194</td>\n",
       "      <td>0.12391</td>\n",
       "      <td>-0.46222</td>\n",
       "      <td>0.02648</td>\n",
       "      <td>-0.02700</td>\n",
       "      <td>-0.01707</td>\n",
       "    </tr>\n",
       "    <tr>\n",
       "      <th>80 degree</th>\n",
       "      <td>0.89223</td>\n",
       "      <td>-0.01972</td>\n",
       "      <td>-0.52578</td>\n",
       "      <td>0.04141</td>\n",
       "      <td>-0.01896</td>\n",
       "      <td>-0.00428</td>\n",
       "    </tr>\n",
       "    <tr>\n",
       "      <th>90 degree</th>\n",
       "      <td>0.94059</td>\n",
       "      <td>-0.18496</td>\n",
       "      <td>-0.62797</td>\n",
       "      <td>0.03404</td>\n",
       "      <td>-0.02531</td>\n",
       "      <td>0.01202</td>\n",
       "    </tr>\n",
       "  </tbody>\n",
       "</table>\n",
       "</div>"
      ],
      "text/plain": [
       "                 Cy       Cx       mz       Cz       my       mx\n",
       "-90 degree -0.97717  0.28108  0.80590  0.01760  0.09188  0.02610\n",
       "-80 degree -1.05665  0.52915  0.94347  0.00091  0.09410  0.01246\n",
       "-70 degree -1.05718  0.76839  0.98139 -0.02327  0.10179  0.01522\n",
       "-60 degree -1.00930  0.94221  0.94513 -0.05056  0.09406  0.00620\n",
       "-50 degree -0.94624  1.05139  0.89359 -0.07813  0.08907  0.00444\n",
       "-40 degree -0.83137  1.14079  0.80845 -0.05704  0.07593  0.00539\n",
       "-30 degree -0.78178  1.12213  0.62912 -0.00827  0.06704  0.01858\n",
       "-20 degree -0.66764  1.15325  0.47608 -0.00722  0.05418  0.00950\n",
       "-10 degree -0.48342  1.18370  0.35270 -0.01323  0.02852 -0.00730\n",
       "0 degree   -0.30745  1.16329  0.24538  0.00716  0.01824 -0.00563\n",
       "10 degree  -0.16473  1.08995  0.14742  0.01746  0.00699 -0.00639\n",
       "17 degree  -0.05976  1.05178  0.08508  0.01947 -0.01082 -0.01473\n",
       "20 degree  -0.02238  1.02085  0.05461  0.02568 -0.02198 -0.02039\n",
       "30 degree   0.19076  0.85054 -0.05332  0.06986 -0.01368 -0.00958\n",
       "40 degree   0.37810  0.69503 -0.15739  0.02833 -0.01126 -0.01202\n",
       "50 degree   0.57977  0.47548 -0.29571  0.03067 -0.01653 -0.01280\n",
       "60 degree   0.74033  0.29416 -0.38663  0.03789 -0.01889 -0.01195\n",
       "70 degree   0.84194  0.12391 -0.46222  0.02648 -0.02700 -0.01707\n",
       "80 degree   0.89223 -0.01972 -0.52578  0.04141 -0.01896 -0.00428\n",
       "90 degree   0.94059 -0.18496 -0.62797  0.03404 -0.02531  0.01202"
      ]
     },
     "execution_count": 69,
     "metadata": {},
     "output_type": "execute_result"
    }
   ],
   "source": [
    "m=UNITS.meter\n",
    "s=UNITS.second\n",
    "N=UNITS.newton\n",
    "kg=UNITS.kilogram\n",
    "deg=UNITS.degree\n",
    "\n",
    "rho=1.293*kg/m**3\n",
    "\n",
    "l_1=0.6*m\n",
    "l_2=0.1*m\n",
    "l_3=1.045*m\n",
    "l_4=1.075*m\n",
    "\n",
    "dt=0.0001*s\n",
    "M=210*kg\n",
    "A=0.58*m**2\n",
    "L=1.115*m\n",
    "J_x=34.4*kg*m**2\n",
    "J_y=44.5*kg*m**2\n",
    "J_z=21.1*kg*m**2\n",
    "J_xz=-8.3*kg*m**2\n",
    "J_xy=0*kg*m**2\n",
    "J_yz=0*kg*m**2\n",
    "g=9.8*m/s**2\n",
    "x=17*deg\n",
    "\n",
    "v_f=1000/3.6*m/s\n",
    "\n",
    "xt=0.24*m\n",
    "yt=0.357*m\n",
    "r=pow(xt**2+yt**2,0.5)\n",
    "\n",
    "F=25000*N\n",
    "F_k=20000*N\n",
    "k1=0.1\n",
    "F_f=(k1/(1+k1))*F_k\n",
    "\n",
    "beta=90*deg-math.atan(yt/xt)/pi*180*deg\n",
    "L_p=pow(r**2+(l_1+l_2)**2-2*r*(l_1+l_2)*math.cos(beta),0.5)\n",
    "gamma=math.asin(r/L_p*math.sin(beta))/pi*180*deg\n",
    "\n",
    "e_f=0.02*m\n",
    "beta_t=19.5*deg\n",
    "a=(e_f/math.cos(beta_t)+yt*math.tan(beta_t)+xt)/(1+math.tan(beta_t)**2)\n",
    "\n",
    "CA=0.07*m**2\n",
    "\n",
    "t_end_1=1.1*s\n",
    "\n",
    "newdata = {'Cy':{-90*deg:-0.97717,-80*deg:-1.05665,-70*deg:-1.05718,-60*deg:-1.00930,-50*deg:-0.94624,-40*deg:-0.83137,-30*deg:-0.78178,-20*deg:-0.66764,-10*deg:-0.48342,0*deg:-0.30745,10*deg:-0.16473,17*deg:-0.05976,20*deg:-0.02238,30*deg:0.19076,40*deg:0.37810,50*deg:0.57977,60*deg:0.74033,70*deg:0.84194,80*deg:0.89223,90*deg:0.94059},\n",
    "           'Cx':{-90*deg:0.28108,-80*deg:0.52915,-70*deg:0.76839,-60*deg:0.94221,-50*deg:1.05139,-40*deg:1.14079,-30*deg:1.12213,-20*deg:1.15325,-10*deg:1.18370,0*deg:1.16329,10*deg:1.08995,17*deg:1.05178,20*deg:1.02085,30*deg:0.85054,40*deg:0.69503,50*deg:0.47548,60*deg:0.29416,70*deg:0.12391,80*deg:-0.01972,90*deg:-0.18496},\n",
    "           'mz':{-90*deg:0.80590,-80*deg:0.94347,-70*deg:0.98139,-60*deg:0.94513,-50*deg:0.89359,-40*deg:0.80845,-30*deg:0.62912,-20*deg:0.47608,-10*deg:0.35270,0*deg:0.24538,10*deg:0.14742,17*deg:0.08508,20*deg:0.05461,30*deg:-0.05332,40*deg:-0.15739,50*deg:-0.29571,60*deg:-0.38663,70*deg:-0.46222,80*deg:-0.52578,90*deg:-0.62797},\n",
    "           'Cz':{-90*deg:0.01760,-80*deg:0.00091,-70*deg:-0.02327,-60*deg:-0.05056,-50*deg:-0.07813,-40*deg:-0.05704,-30*deg:-0.00827,-20*deg:-0.00722,-10*deg:-0.01323,0*deg:0.00716,10*deg:0.01746,17*deg:0.01947,20*deg:0.02568,30*deg:0.06986,40*deg:0.02833,50*deg:0.03067,60*deg:0.03789,70*deg:0.02648,80*deg:0.04141,90*deg:0.03404},\n",
    "           'my':{-90*deg:0.09188,-80*deg:0.09410,-70*deg:0.10179,-60*deg:0.09406,-50*deg:0.08907,-40*deg:0.07593,-30*deg:0.06704,-20*deg:0.05418,-10*deg:0.02852,0*deg:0.01824,10*deg:0.00699,17*deg:-0.01082,20*deg:-0.02198,30*deg:-0.01368,40*deg:-0.01126,50*deg:-0.01653,60*deg:-0.01889,70*deg:-0.02700,80*deg:-0.01896,90*deg:-0.02531},\n",
    "           'mx':{-90*deg:0.02610,-80*deg:0.01246,-70*deg:0.01522,-60*deg:0.00620,-50*deg:0.00444,-40*deg:0.00539,-30*deg:0.01858,-20*deg:0.00950,-10*deg:-0.00730,0*deg:-0.00563,10*deg:-0.00639,17*deg:-0.01473,20*deg:-0.02039,30*deg:-0.00958,40*deg:-0.01202,50*deg:-0.01280,60*deg:-0.01195,70*deg:-0.01707,80*deg:-0.00428,90*deg:0.01202}\n",
    "          }\n",
    "Ratio=DataFrame(newdata)"
   ]
  },
  {
   "cell_type": "code",
   "execution_count": 70,
   "metadata": {},
   "outputs": [],
   "source": [
    "def run_rk4(system,slope_func):\n",
    "    \n",
    "    #the default message if nothing changes\n",
    "    msg=\"The solver successfully reached the end of the integration interval.\"\n",
    "    \n",
    "    #get parameters from system\n",
    "    init=system.init\n",
    "    t_0=system.t_0\n",
    "    t_end=system.t_end\n",
    "    system.t_end=t_0+dt*3\n",
    "    \n",
    "    #make the TimeFrame\n",
    "    frame,details=run_euler(system,slope_func)\n",
    "    ts=linrange(t_0,t_end,dt)*get_units(t_end)\n",
    "    system.t_end=t_end\n",
    "\n",
    "    #run the solver\n",
    "    for t1 in ts:\n",
    "        y1=frame.row[round(t1,4)]\n",
    "        slopes=slope_func(y1,round(t1,4),system)\n",
    "        y_0=[y+1/6*slope*dt for y,slope in zip(y1,slopes)]\n",
    "        \n",
    "        y2=[y+1/6*slope*dt/2 for y,slope in zip(y1,slopes)]\n",
    "        slopes=slope_func(y2,round(t1+dt/2,4),system)\n",
    "        y_0=[y+2/6*slope*dt for y,slope in zip(y_0,slopes)]\n",
    "        \n",
    "        y3=[y+2/6*slope*dt/2 for y,slope in zip(y1,slopes)]\n",
    "        slopes=slope_func(y3,round(t1+dt/2,4),system)\n",
    "        y_0=[y+2/6*slope*dt for y,slope in zip(y_0,slopes)]\n",
    "        \n",
    "        y4=[y+2/6*slope*dt for y,slope in zip(y1,slopes)]\n",
    "        slopes=slope_func(y4,round(t1+dt,4),system)\n",
    "        y_0=[y+1/6*slope*dt for y,slope in zip(y_0,slopes)]\n",
    "        \n",
    "        t2=round(t1+dt,4)\n",
    "        frame.row[t2]=y_0\n",
    "\n",
    "    return frame"
   ]
  },
  {
   "cell_type": "code",
   "execution_count": 71,
   "metadata": {},
   "outputs": [],
   "source": [
    "def slope_func_cc(state,t,system):\n",
    "    l,x_ji,y_ji,x_di,y_di,phi,theta,v,v_x,v_y,w_phi,w_theta=state\n",
    "    G=M*g\n",
    "    \n",
    "    v0=pow(v**2+v_f**2-2*v*v_f*math.cos(90*deg-theta),0.5)\n",
    "    theta_gui=math.asin(v/v0*math.sin(90*deg-theta))/pi*180*deg\n",
    "    alpha=theta-theta_gui\n",
    "    \n",
    "    xxx=Ratio.loc[[round(alpha/10)*10]]\n",
    "    Cy=float(xxx.Cy)\n",
    "    Cx=float(xxx.Cx)\n",
    "    mz=float(xxx.mz)\n",
    "    Cz=float(xxx.Cz)\n",
    "    my=float(xxx.my)\n",
    "    mx=float(xxx.mx)\n",
    "    \n",
    "    P=0.5*rho*v0**2*Cy*A\n",
    "    Q=0.5*rho*v0**2*Cx*A\n",
    "    M_z=0.5*rho*v0**2*mz*A*L\n",
    "    \n",
    "    dl=v\n",
    "    dx_ji=v*math.sin(theta)\n",
    "    dy_ji=v*math.cos(theta)\n",
    "    \n",
    "    dx_di=v*math.sin(theta)-v_f\n",
    "    dy_di=v*math.cos(theta)\n",
    "    \n",
    "    dphi=w_phi\n",
    "    dtheta=w_theta\n",
    "    \n",
    "    if l<l_1:\n",
    "        dv=(F_k-G*math.cos(x))/M\n",
    "        dw_phi=0*deg/s**2\n",
    "        dw_theta=0*deg/s**2\n",
    "    elif l<(l_1+l_2):\n",
    "        dv=(F_k-G*math.cos(x)+P*math.cos(alpha)+Q*math.sin(alpha))/M\n",
    "        \n",
    "        M_a=M_z+P*(xt*math.cos(alpha)-yt*math.sin(alpha))+Q*(xt*math.sin(alpha)+yt*math.cos(alpha))\n",
    "        M_G=G*r*math.cos(theta+math.atan(yt/xt)/pi*180*deg)\n",
    "        J_c=J_z+M*r**2\n",
    "        \n",
    "        dw_phi=(M_a-M_G)/J_c/pi*180*deg\n",
    "        dw_theta=dw_phi\n",
    "    else:\n",
    "        dv=(F_k+(P*math.cos(theta_gui)-Q*math.sin(theta_gui)-G)*math.cos(phi)+(P*math.sin(theta_gui)+Q*math.cos(theta_gui))*math.sin(phi))/M\n",
    "        \n",
    "        x0=((P*math.sin(theta_gui)+Q*math.cos(theta_gui))*math.cos(phi)-(P*math.cos(theta_gui)-Q*math.sin(theta_gui)-G)*math.sin(phi))/(M*l)-2*v*w_phi/l-a*w_theta**2*math.sin(theta+gamma-phi)/l\n",
    "        J_A=J_z+M*L_p**2\n",
    "        y0=(L_p*((P*math.cos(theta_gui)-Q*math.sin(theta_gui)-G)*math.sin(theta+gamma)-(P*math.sin(theta_gui)+Q*math.cos(theta_gui))*math.cos(theta+gamma))+M_z-M*a*((dv-l*w_phi**2)*math.sin(theta+gamma-phi)-2*v*w_phi*math.cos(theta+gamma-phi)))/J_A\n",
    "        \n",
    "        dw_phi=(x0+a*math.cos(theta+gamma-phi)*y0/l)/(1-M*a**2*math.cos(theta+gamma-phi)**2/J_A)/pi*180*deg\n",
    "        dw_theta=M*a*l*math.cos(theta+gamma-phi)*dw_phi/J_A+y0/pi*180*deg\n",
    "    \n",
    "    dv_x=-dv*math.sin(theta)-v*math.cos(theta)*dtheta\n",
    "    dv_y=dv*math.cos(theta)-v*math.sin(theta)*dtheta\n",
    "    \n",
    "    return dl,dx_ji,dy_ji,dx_di,dy_di,dphi,dtheta,dv,dv_x,dv_y,dw_phi,dw_theta"
   ]
  },
  {
   "cell_type": "code",
   "execution_count": 72,
   "metadata": {},
   "outputs": [],
   "source": [
    "def time_sd(init_cc):\n",
    "    ts=linrange(0*s,0.2*s,dt)\n",
    "    system_cc=System(init=init_cc,t_0=0*s,t_end=0.2*s,dt=dt)\n",
    "    results=run_rk4(system_cc,slope_func_cc)\n",
    "    for t in ts:\n",
    "        if results.row[round(t,4)].l>1.045*m:\n",
    "            t_end=round(t,4)*s\n",
    "            break\n",
    "            \n",
    "    return t_end"
   ]
  },
  {
   "cell_type": "markdown",
   "metadata": {},
   "source": [
    "飞机飞行速度变化"
   ]
  },
  {
   "cell_type": "code",
   "execution_count": 73,
   "metadata": {},
   "outputs": [
    {
     "data": {
      "image/png": "[encoded data removed]",
      "text/plain": [
       "<Figure size 432x288 with 1 Axes>"
      ]
     },
     "metadata": {
      "needs_background": "light"
     },
     "output_type": "display_data"
    }
   ],
   "source": [
    "init_cc=State(l=0*m,x_ji=0*m,y_ji=0*m,x_di=0*m,y_di=0*m,phi=x,theta=x,v=0*m/s,v_x=v_f,v_y=0*m/s,w_phi=0*deg/s,w_theta=0*deg/s)\n",
    "t_end0=time_sd(init_cc)\n",
    "system_cc=System(init=init_cc,t_0=0*s,t_end=t_end0,dt=dt)\n",
    "results_cc=run_rk4(system_cc,slope_func_cc)\n",
    "\n",
    "v_f=900/3.6*m/s\n",
    "init_cc=State(l=0*m,x_ji=0*m,y_ji=0*m,x_di=0*m,y_di=0*m,phi=x,theta=x,v=0*m/s,v_x=v_f,v_y=0*m/s,w_phi=0*deg/s,w_theta=0*deg/s)\n",
    "t_end1=time_sd(init_cc)\n",
    "system_cc1=System(init=init_cc,t_0=0*s,t_end=t_end1,dt=dt)\n",
    "results_cc1=run_rk4(system_cc1,slope_func_cc)\n",
    "\n",
    "v_f=800/3.6*m/s\n",
    "init_cc=State(l=0*m,x_ji=0*m,y_ji=0*m,x_di=0*m,y_di=0*m,phi=x,theta=x,v=0*m/s,v_x=v_f,v_y=0*m/s,w_phi=0*deg/s,w_theta=0*deg/s)\n",
    "t_end2=time_sd(init_cc)\n",
    "system_cc2=System(init=init_cc,t_0=0*s,t_end=t_end2,dt=dt)\n",
    "results_cc2=run_rk4(system_cc2,slope_func_cc)\n",
    "\n",
    "v_f=700/3.6*m/s\n",
    "init_cc=State(l=0*m,x_ji=0*m,y_ji=0*m,x_di=0*m,y_di=0*m,phi=x,theta=x,v=0*m/s,v_x=v_f,v_y=0*m/s,w_phi=0*deg/s,w_theta=0*deg/s)\n",
    "t_end3=time_sd(init_cc)\n",
    "system_cc3=System(init=init_cc,t_0=0*s,t_end=t_end3,dt=dt)\n",
    "results_cc3=run_rk4(system_cc3,slope_func_cc)\n",
    "\n",
    "plot(results_cc.x_ji,results_cc.y_ji,label='v=1000km/h',color='C1')\n",
    "plot(results_cc1.x_ji,results_cc1.y_ji,label='v=900km/h',color='C2')\n",
    "plot(results_cc2.x_ji,results_cc2.y_ji,label='v=800km/h',color='C3')\n",
    "plot(results_cc3.x_ji,results_cc3.y_ji,label='v=700km/h',color='C4')\n",
    "decorate(xlabel='Distance(m)',ylabel='Height(m)')"
   ]
  },
  {
   "cell_type": "code",
   "execution_count": 74,
   "metadata": {},
   "outputs": [],
   "source": [
    "def accel1(system,t0,tk):\n",
    "    ts=linrange(t0,tk,dt)\n",
    "    frame=TimeFrame(columns=[['n']])\n",
    "    G=M*g\n",
    "    \n",
    "    for t in ts:\n",
    "        l,x_ji,y_ji,x_di,y_di,phi,theta,v,v_x,v_y,w_phi,w_theta=system.row[round(t,4)]\n",
    "        \n",
    "        v0=pow(v**2+v_f**2-2*v*v_f*math.cos(90*deg-theta),0.5)\n",
    "        theta_gui=math.asin(v/v0*math.sin(90*deg-theta))/pi*180*deg\n",
    "        alpha=theta-theta_gui\n",
    "        \n",
    "        xxx=Ratio.loc[[round(alpha/10)*10]]\n",
    "        Cy=float(xxx.Cy)\n",
    "        Cx=float(xxx.Cx)\n",
    "        mz=float(xxx.mz)\n",
    "        Cz=float(xxx.Cz)\n",
    "        my=float(xxx.my)\n",
    "        mx=float(xxx.mx)\n",
    "        \n",
    "        P=0.5*rho*v0**2*Cy*A\n",
    "        Q=0.5*rho*v0**2*Cx*A\n",
    "        \n",
    "        if l<l_1:\n",
    "            dv=(F_k-G*math.cos(x))/M\n",
    "        elif l<(l_1+l_2):\n",
    "            dv=(F_k-G*math.cos(x)+P*math.cos(alpha)+Q*math.sin(alpha))/M\n",
    "        else:\n",
    "            dv=(F_k+(P*math.cos(theta_gui)-Q*math.sin(theta_gui)-G)*math.cos(phi)+(P*math.sin(theta_gui)+Q*math.cos(theta_gui))*math.sin(phi))/M\n",
    "        \n",
    "        n=dv/g\n",
    "        frame1=TimeFrame([[n]],columns=[['n']],index=[t])\n",
    "        frame=frame.append(frame1)\n",
    "        \n",
    "    return frame"
   ]
  },
  {
   "cell_type": "code",
   "execution_count": 75,
   "metadata": {},
   "outputs": [],
   "source": [
    "def guozai(t_end,results_cc):\n",
    "    T=linrange(0*s,t_end,dt)\n",
    "    accel_cc=accel1(results_cc,0*s,t_end)\n",
    "\n",
    "    xnew = np.linspace(T.min(),T.max(),300)\n",
    "    y_smooth = make_interp_spline(T,accel_cc.n)\n",
    "\n",
    "    x_smooth = np.linspace(T.min(), T.max(),300)\n",
    "    y_smooth = make_interp_spline(T, accel_cc.n)(x_smooth)\n",
    "\n",
    "    return x_smooth, y_smooth"
   ]
  },
  {
   "cell_type": "code",
   "execution_count": 76,
   "metadata": {},
   "outputs": [
    {
     "data": {
      "image/png": "[encoded data removed]",
      "text/plain": [
       "<Figure size 432x288 with 1 Axes>"
      ]
     },
     "metadata": {
      "needs_background": "light"
     },
     "output_type": "display_data"
    }
   ],
   "source": [
    "x_smooth, y_smooth=guozai(t_end0,results_cc)\n",
    "x1_smooth, y1_smooth=guozai(t_end1,results_cc1)\n",
    "x2_smooth, y2_smooth=guozai(t_end2,results_cc2)\n",
    "x3_smooth, y3_smooth=guozai(t_end3,results_cc3)\n",
    "\n",
    "plot(x_smooth, y_smooth,label='v=1000km/h',color='C1')\n",
    "plot(x1_smooth, y1_smooth,label='v=900km/h',color='C2')\n",
    "plot(x2_smooth, y2_smooth,label='v=800km/h',color='C3')\n",
    "plot(x3_smooth, y3_smooth,label='v=700km/h',color='C4')\n",
    "\n",
    "decorate(xlabel='Time(s)',ylabel='n')"
   ]
  },
  {
   "cell_type": "code",
   "execution_count": 77,
   "metadata": {},
   "outputs": [
    {
     "data": {
      "image/png": "[encoded data removed]",
      "text/plain": [
       "<Figure size 432x288 with 1 Axes>"
      ]
     },
     "metadata": {
      "needs_background": "light"
     },
     "output_type": "display_data"
    }
   ],
   "source": [
    "plot(results_cc.x_di,results_cc.y_di,label='v=1000km/h',color='C1')\n",
    "plot(results_cc1.x_di,results_cc1.y_di,label='v=900km/h',color='C2')\n",
    "plot(results_cc2.x_di,results_cc2.y_di,label='v=800km/h',color='C3')\n",
    "plot(results_cc3.x_di,results_cc3.y_di,label='v=700km/h',color='C4')\n",
    "\n",
    "decorate(xlabel='Distance(m)',ylabel='Height(m)')"
   ]
  },
  {
   "cell_type": "code",
   "execution_count": 78,
   "metadata": {},
   "outputs": [
    {
     "data": {
      "image/png": "[encoded data removed]",
      "text/plain": [
       "<Figure size 432x288 with 1 Axes>"
      ]
     },
     "metadata": {
      "needs_background": "light"
     },
     "output_type": "display_data"
    }
   ],
   "source": [
    "plot(results_cc.theta,label='v=1000km/h',color='C1')\n",
    "plot(results_cc1.theta,label='v=900km/h',color='C2')\n",
    "plot(results_cc2.theta,label='v=800km/h',color='C3')\n",
    "plot(results_cc3.theta,label='v=700km/h',color='C4')\n",
    "\n",
    "decorate(xlabel='Time(s)',ylabel='ϑ(°)')"
   ]
  },
  {
   "cell_type": "code",
   "execution_count": 79,
   "metadata": {},
   "outputs": [
    {
     "data": {
      "image/png": "[encoded data removed]",
      "text/plain": [
       "<Figure size 432x288 with 1 Axes>"
      ]
     },
     "metadata": {
      "needs_background": "light"
     },
     "output_type": "display_data"
    }
   ],
   "source": [
    "plot(results_cc.v,label='v=1000km/h',color='C1')\n",
    "plot(results_cc1.v,label='v=900km/h',color='C2')\n",
    "plot(results_cc2.v,label='v=800km/h',color='C3')\n",
    "plot(results_cc3.v,label='v=700km/h',color='C4')\n",
    "\n",
    "decorate(xlabel='Time(s)',ylabel='v_k(m/s)')"
   ]
  },
  {
   "cell_type": "code",
   "execution_count": 80,
   "metadata": {},
   "outputs": [
    {
     "data": {
      "image/png": "[encoded data removed]",
      "text/plain": [
       "<Figure size 432x288 with 1 Axes>"
      ]
     },
     "metadata": {
      "needs_background": "light"
     },
     "output_type": "display_data"
    }
   ],
   "source": [
    "plot(results_cc.v_x,results_cc.v_y,label='v=1000km/h',color='C1')\n",
    "plot(results_cc1.v_x,results_cc1.v_y,label='v=900km/h',color='C2')\n",
    "plot(results_cc2.v_x,results_cc2.v_y,label='v=800km/h',color='C3')\n",
    "plot(results_cc3.v_x,results_cc3.v_y,label='v=700km/h',color='C4')\n",
    "\n",
    "decorate(xlabel='v_x(m/s)',ylabel='v_y(m/s)')"
   ]
  },
  {
   "cell_type": "markdown",
   "metadata": {},
   "source": [
    "人椅系统质量变化"
   ]
  },
  {
   "cell_type": "code",
   "execution_count": null,
   "metadata": {},
   "outputs": [],
   "source": [
    "v_f=1000/3.6*m/s\n",
    "M=200*kg\n",
    "init_cc=State(l=0*m,x_ji=0*m,y_ji=0*m,x_di=0*m,y_di=0*m,phi=x,theta=x,v=0*m/s,v_x=v_f,v_y=0*m/s,w_phi=0*deg/s,w_theta=0*deg/s)\n",
    "t_end0=time_sd(init_cc)\n",
    "system_cc=System(init=init_cc,t_0=0*s,t_end=t_end0,dt=dt)\n",
    "results_cc=run_rk4(system_cc,slope_func_cc)\n",
    "\n",
    "M=180*kg\n",
    "t_end1=time_sd(init_cc)\n",
    "system_cc1=System(init=init_cc,t_0=0*s,t_end=t_end1,dt=dt)\n",
    "results_cc1=run_rk4(system_cc1,slope_func_cc)\n",
    "\n",
    "M=160*kg\n",
    "t_end2=time_sd(init_cc)\n",
    "system_cc2=System(init=init_cc,t_0=0*s,t_end=t_end2,dt=dt)\n",
    "results_cc2=run_rk4(system_cc2,slope_func_cc)\n",
    "\n",
    "M=140*kg\n",
    "t_end3=time_sd(init_cc)\n",
    "system_cc3=System(init=init_cc,t_0=0*s,t_end=t_end3,dt=dt)\n",
    "results_cc3=run_rk4(system_cc3,slope_func_cc)\n",
    "\n",
    "plot(results_cc.x_ji,results_cc.y_ji,label='m=200kg',color='C1')\n",
    "plot(results_cc1.x_ji,results_cc1.y_ji,label='m=180kg',color='C2')\n",
    "plot(results_cc2.x_ji,results_cc2.y_ji,label='m=160kg',color='C3')\n",
    "plot(results_cc3.x_ji,results_cc3.y_ji,label='m=140kg',color='C4')\n",
    "decorate(xlabel='Distance(m)',ylabel='Height(m)')"
   ]
  },
  {
   "cell_type": "code",
   "execution_count": null,
   "metadata": {},
   "outputs": [],
   "source": [
    "x_smooth, y_smooth=guozai(t_end0,results_cc)\n",
    "x1_smooth, y1_smooth=guozai(t_end1,results_cc1)\n",
    "x2_smooth, y2_smooth=guozai(t_end2,results_cc2)\n",
    "x3_smooth, y3_smooth=guozai(t_end3,results_cc3)\n",
    "\n",
    "plot(x_smooth, y_smooth,label='m=200kg',color='C1')\n",
    "plot(x1_smooth, y1_smooth,label='m=180kg',color='C2')\n",
    "plot(x2_smooth, y2_smooth,label='m=160kg',color='C3')\n",
    "plot(x3_smooth, y3_smooth,label='m=140kg',color='C4')\n",
    "\n",
    "decorate(xlabel='Time(s)',ylabel='n')"
   ]
  },
  {
   "cell_type": "code",
   "execution_count": null,
   "metadata": {},
   "outputs": [],
   "source": [
    "plot(results_cc.x_di,results_cc.y_di,label='m=200kg',color='C1')\n",
    "plot(results_cc1.x_di,results_cc1.y_di,label='m=180kg',color='C2')\n",
    "plot(results_cc2.x_di,results_cc2.y_di,label='m=160kg',color='C3')\n",
    "plot(results_cc3.x_di,results_cc3.y_di,label='m=140kg',color='C4')\n",
    "\n",
    "decorate(xlabel='Distance(m)',ylabel='Height(m)')"
   ]
  },
  {
   "cell_type": "code",
   "execution_count": null,
   "metadata": {},
   "outputs": [],
   "source": [
    "plot(results_cc.theta,label='m=200kg',color='C1')\n",
    "plot(results_cc1.theta,label='m=180kg',color='C2')\n",
    "plot(results_cc2.theta,label='m=160kg',color='C3')\n",
    "plot(results_cc3.theta,label='m=140kg',color='C4')\n",
    "\n",
    "decorate(xlabel='Time(s)',ylabel='ϑ(°)')"
   ]
  },
  {
   "cell_type": "code",
   "execution_count": null,
   "metadata": {},
   "outputs": [],
   "source": [
    "plot(results_cc.v,label='m=200kg',color='C1')\n",
    "plot(results_cc1.v,label='m=180kg',color='C2')\n",
    "plot(results_cc2.v,label='m=160kg',color='C3')\n",
    "plot(results_cc3.v,label='m=140kg',color='C4')\n",
    "\n",
    "decorate(xlabel='Time(s)',ylabel='v_k(m/s)')"
   ]
  },
  {
   "cell_type": "code",
   "execution_count": null,
   "metadata": {},
   "outputs": [],
   "source": [
    "plot(results_cc.v_x,results_cc.v_y,label='m=200kg',color='C1')\n",
    "plot(results_cc1.v_x,results_cc1.v_y,label='m=180kg',color='C2')\n",
    "plot(results_cc2.v_x,results_cc2.v_y,label='m=160kg',color='C3')\n",
    "plot(results_cc3.v_x,results_cc3.v_y,label='m=140kg',color='C4')\n",
    "\n",
    "decorate(xlabel='v_x(m/s)',ylabel='v_y(m/s)')"
   ]
  },
  {
   "cell_type": "markdown",
   "metadata": {},
   "source": [
    "导轨倾角变化"
   ]
  },
  {
   "cell_type": "code",
   "execution_count": null,
   "metadata": {},
   "outputs": [],
   "source": [
    "M=210*kg\n",
    "v_f=1000/3.6*m/s\n",
    "\n",
    "x=10*deg\n",
    "init_cc=State(l=0*m,x_ji=0*m,y_ji=0*m,x_di=0*m,y_di=0*m,phi=x,theta=x,v=0*m/s,v_x=v_f,v_y=0*m/s,w_phi=0*deg/s,w_theta=0*deg/s)\n",
    "t_end0=time_sd(init_cc)\n",
    "system_cc=System(init=init_cc,t_0=0*s,t_end=t_end0,dt=dt)\n",
    "results_cc=run_rk4(system_cc,slope_func_cc)\n",
    "\n",
    "x=20*deg\n",
    "init_cc=State(l=0*m,x_ji=0*m,y_ji=0*m,x_di=0*m,y_di=0*m,phi=x,theta=x,v=0*m/s,v_x=v_f,v_y=0*m/s,w_phi=0*deg/s,w_theta=0*deg/s)\n",
    "t_end1=time_sd(init_cc)\n",
    "system_cc1=System(init=init_cc,t_0=0*s,t_end=t_end1,dt=dt)\n",
    "results_cc1=run_rk4(system_cc1,slope_func_cc)\n",
    "\n",
    "x=30*deg\n",
    "init_cc=State(l=0*m,x_ji=0*m,y_ji=0*m,x_di=0*m,y_di=0*m,phi=x,theta=x,v=0*m/s,v_x=v_f,v_y=0*m/s,w_phi=0*deg/s,w_theta=0*deg/s)\n",
    "t_end2=time_sd(init_cc)\n",
    "system_cc2=System(init=init_cc,t_0=0*s,t_end=t_end2,dt=dt)\n",
    "results_cc2=run_rk4(system_cc2,slope_func_cc)\n",
    "\n",
    "plot(results_cc.x_ji,results_cc.y_ji,label='x=10°',color='C1')\n",
    "plot(results_cc1.x_ji,results_cc1.y_ji,label='x=20°',color='C2')\n",
    "plot(results_cc2.x_ji,results_cc2.y_ji,label='x=30°',color='C3')\n",
    "decorate(xlabel='Distance(m)',ylabel='Height(m)')"
   ]
  },
  {
   "cell_type": "code",
   "execution_count": null,
   "metadata": {},
   "outputs": [],
   "source": [
    "x_smooth, y_smooth=guozai(t_end0,results_cc)\n",
    "x1_smooth, y1_smooth=guozai(t_end1,results_cc1)\n",
    "x2_smooth, y2_smooth=guozai(t_end2,results_cc2)\n",
    "\n",
    "plot(x_smooth, y_smooth,label='x=10°',color='C1')\n",
    "plot(x1_smooth, y1_smooth,label='x=20°',color='C2')\n",
    "plot(x2_smooth, y2_smooth,label='x=30°',color='C3')\n",
    "\n",
    "decorate(xlabel='Time(s)',ylabel='n')"
   ]
  },
  {
   "cell_type": "code",
   "execution_count": null,
   "metadata": {},
   "outputs": [],
   "source": [
    "plot(results_cc.x_di,results_cc.y_di,label='x=10°',color='C1')\n",
    "plot(results_cc1.x_di,results_cc1.y_di,label='x=20°',color='C2')\n",
    "plot(results_cc2.x_di,results_cc2.y_di,label='x=30°',color='C3')\n",
    "\n",
    "decorate(xlabel='Distance(m)',ylabel='Height(m)')"
   ]
  },
  {
   "cell_type": "code",
   "execution_count": null,
   "metadata": {},
   "outputs": [],
   "source": [
    "plot(results_cc.theta,label='x=10°',color='C1')\n",
    "plot(results_cc1.theta,label='x=20°',color='C2')\n",
    "plot(results_cc2.theta,label='x=30°',color='C3')\n",
    "\n",
    "decorate(xlabel='Time(s)',ylabel='ϑ(°)')"
   ]
  },
  {
   "cell_type": "code",
   "execution_count": null,
   "metadata": {},
   "outputs": [],
   "source": [
    "plot(results_cc.v,label='x=10°',color='C1')\n",
    "plot(results_cc1.v,label='x=20°',color='C2')\n",
    "plot(results_cc2.v,label='x=30°',color='C3')\n",
    "\n",
    "decorate(xlabel='Time(s)',ylabel='v_k(m/s)')"
   ]
  },
  {
   "cell_type": "code",
   "execution_count": null,
   "metadata": {},
   "outputs": [],
   "source": [
    "plot(results_cc.v_x,results_cc.v_y,label='x=10°',color='C1')\n",
    "plot(results_cc1.v_x,results_cc1.v_y,label='x=20°',color='C2')\n",
    "plot(results_cc2.v_x,results_cc2.v_y,label='x=30°',color='C3')\n",
    "\n",
    "decorate(xlabel='v_x(m/s)',ylabel='v_y(m/s)')"
   ]
  }
 ],
 "metadata": {
  "kernelspec": {
   "display_name": "Python 3",
   "language": "python",
   "name": "python3"
  },
  "language_info": {
   "codemirror_mode": {
    "name": "ipython",
    "version": 3
   },
   "file_extension": ".py",
   "mimetype": "text/x-python",
   "name": "python",
   "nbconvert_exporter": "python",
   "pygments_lexer": "ipython3",
   "version": "3.7.0"
  }
 },
 "nbformat": 4,
 "nbformat_minor": 2
}
